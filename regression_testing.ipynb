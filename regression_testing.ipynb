{
 "cells": [
  {
   "cell_type": "code",
   "execution_count": 1,
   "metadata": {},
   "outputs": [
    {
     "data": {
      "text/html": [
       "<div>\n",
       "<style scoped>\n",
       "    .dataframe tbody tr th:only-of-type {\n",
       "        vertical-align: middle;\n",
       "    }\n",
       "\n",
       "    .dataframe tbody tr th {\n",
       "        vertical-align: top;\n",
       "    }\n",
       "\n",
       "    .dataframe thead th {\n",
       "        text-align: right;\n",
       "    }\n",
       "</style>\n",
       "<table border=\"1\" class=\"dataframe\">\n",
       "  <thead>\n",
       "    <tr style=\"text-align: right;\">\n",
       "      <th></th>\n",
       "      <th>Unnamed: 0</th>\n",
       "      <th>title</th>\n",
       "      <th>source</th>\n",
       "      <th>datetime</th>\n",
       "      <th>return_after_1d</th>\n",
       "      <th>weighted</th>\n",
       "    </tr>\n",
       "  </thead>\n",
       "  <tbody>\n",
       "    <tr>\n",
       "      <th>0</th>\n",
       "      <td>0</td>\n",
       "      <td>Visa Makes Their Grand Entrance Into the NFT A...</td>\n",
       "      <td>Watcher Guru</td>\n",
       "      <td>2021-08-23 20:55:03</td>\n",
       "      <td>-2.255187</td>\n",
       "      <td>-0.578110</td>\n",
       "    </tr>\n",
       "    <tr>\n",
       "      <th>1</th>\n",
       "      <td>1</td>\n",
       "      <td>Have you seen our billboard in Times Square to...</td>\n",
       "      <td>Watcher Guru</td>\n",
       "      <td>2021-08-26 03:07:52</td>\n",
       "      <td>-2.880761</td>\n",
       "      <td>-0.614835</td>\n",
       "    </tr>\n",
       "    <tr>\n",
       "      <th>2</th>\n",
       "      <td>2</td>\n",
       "      <td>Record breaking sale for Bored Ape</td>\n",
       "      <td>Watcher Guru</td>\n",
       "      <td>2021-08-26 22:14:54</td>\n",
       "      <td>3.342732</td>\n",
       "      <td>0.555237</td>\n",
       "    </tr>\n",
       "    <tr>\n",
       "      <th>3</th>\n",
       "      <td>5</td>\n",
       "      <td>Subscribe to our new YouTube Channel:</td>\n",
       "      <td>Watcher Guru</td>\n",
       "      <td>2021-10-09 21:25:19</td>\n",
       "      <td>0.196548</td>\n",
       "      <td>0.416093</td>\n",
       "    </tr>\n",
       "    <tr>\n",
       "      <th>4</th>\n",
       "      <td>8</td>\n",
       "      <td>Join our discord server, big stuff coming soon :</td>\n",
       "      <td>Watcher Guru</td>\n",
       "      <td>2021-11-06 18:40:12</td>\n",
       "      <td>2.596537</td>\n",
       "      <td>0.529590</td>\n",
       "    </tr>\n",
       "    <tr>\n",
       "      <th>...</th>\n",
       "      <td>...</td>\n",
       "      <td>...</td>\n",
       "      <td>...</td>\n",
       "      <td>...</td>\n",
       "      <td>...</td>\n",
       "      <td>...</td>\n",
       "    </tr>\n",
       "    <tr>\n",
       "      <th>12454</th>\n",
       "      <td>20282</td>\n",
       "      <td>Bitcoin liquidity on weekends is showing signs...</td>\n",
       "      <td>unfolded.</td>\n",
       "      <td>2025-03-28 04:10:37</td>\n",
       "      <td>-3.011766</td>\n",
       "      <td>-0.865066</td>\n",
       "    </tr>\n",
       "    <tr>\n",
       "      <th>12455</th>\n",
       "      <td>20283</td>\n",
       "      <td>NY AG files $200 million settlement with Galax...</td>\n",
       "      <td>unfolded.</td>\n",
       "      <td>2025-03-28 09:28:05</td>\n",
       "      <td>-1.801569</td>\n",
       "      <td>-0.797618</td>\n",
       "    </tr>\n",
       "    <tr>\n",
       "      <th>12456</th>\n",
       "      <td>20284</td>\n",
       "      <td>Terraform Labs to open crypto creditor claims ...</td>\n",
       "      <td>unfolded.</td>\n",
       "      <td>2025-03-28 15:38:46</td>\n",
       "      <td>-2.315566</td>\n",
       "      <td>-0.690030</td>\n",
       "    </tr>\n",
       "    <tr>\n",
       "      <th>12457</th>\n",
       "      <td>20285</td>\n",
       "      <td>FDIC clarifies that banks can engage in permit...</td>\n",
       "      <td>unfolded.</td>\n",
       "      <td>2025-03-28 19:11:54</td>\n",
       "      <td>-1.565353</td>\n",
       "      <td>-0.393629</td>\n",
       "    </tr>\n",
       "    <tr>\n",
       "      <th>12458</th>\n",
       "      <td>20287</td>\n",
       "      <td>Bitcoin dominance has risen to 58%, defying ex...</td>\n",
       "      <td>unfolded.</td>\n",
       "      <td>2025-03-28 23:11:59</td>\n",
       "      <td>-2.228399</td>\n",
       "      <td>-0.686348</td>\n",
       "    </tr>\n",
       "  </tbody>\n",
       "</table>\n",
       "<p>12459 rows × 6 columns</p>\n",
       "</div>"
      ],
      "text/plain": [
       "       Unnamed: 0                                              title  \\\n",
       "0               0  Visa Makes Their Grand Entrance Into the NFT A...   \n",
       "1               1  Have you seen our billboard in Times Square to...   \n",
       "2               2                 Record breaking sale for Bored Ape   \n",
       "3               5              Subscribe to our new YouTube Channel:   \n",
       "4               8   Join our discord server, big stuff coming soon :   \n",
       "...           ...                                                ...   \n",
       "12454       20282  Bitcoin liquidity on weekends is showing signs...   \n",
       "12455       20283  NY AG files $200 million settlement with Galax...   \n",
       "12456       20284  Terraform Labs to open crypto creditor claims ...   \n",
       "12457       20285  FDIC clarifies that banks can engage in permit...   \n",
       "12458       20287  Bitcoin dominance has risen to 58%, defying ex...   \n",
       "\n",
       "             source             datetime  return_after_1d  weighted  \n",
       "0      Watcher Guru  2021-08-23 20:55:03        -2.255187 -0.578110  \n",
       "1      Watcher Guru  2021-08-26 03:07:52        -2.880761 -0.614835  \n",
       "2      Watcher Guru  2021-08-26 22:14:54         3.342732  0.555237  \n",
       "3      Watcher Guru  2021-10-09 21:25:19         0.196548  0.416093  \n",
       "4      Watcher Guru  2021-11-06 18:40:12         2.596537  0.529590  \n",
       "...             ...                  ...              ...       ...  \n",
       "12454     unfolded.  2025-03-28 04:10:37        -3.011766 -0.865066  \n",
       "12455     unfolded.  2025-03-28 09:28:05        -1.801569 -0.797618  \n",
       "12456     unfolded.  2025-03-28 15:38:46        -2.315566 -0.690030  \n",
       "12457     unfolded.  2025-03-28 19:11:54        -1.565353 -0.393629  \n",
       "12458     unfolded.  2025-03-28 23:11:59        -2.228399 -0.686348  \n",
       "\n",
       "[12459 rows x 6 columns]"
      ]
     },
     "execution_count": 1,
     "metadata": {},
     "output_type": "execute_result"
    }
   ],
   "source": [
    "import pandas as pd\n",
    "df_ok = pd.read_csv('filtered_for_classification.csv')\n",
    "df_ok"
   ]
  },
  {
   "cell_type": "code",
   "execution_count": 2,
   "metadata": {},
   "outputs": [
    {
     "name": "stderr",
     "output_type": "stream",
     "text": [
      "[nltk_data] Downloading package stopwords to /home/kosmo/nltk_data...\n",
      "[nltk_data]   Package stopwords is already up-to-date!\n",
      "[nltk_data] Downloading package punkt to /home/kosmo/nltk_data...\n",
      "[nltk_data]   Package punkt is already up-to-date!\n",
      "[nltk_data] Downloading package wordnet to /home/kosmo/nltk_data...\n",
      "[nltk_data]   Package wordnet is already up-to-date!\n",
      "[nltk_data] Downloading package punkt_tab to /home/kosmo/nltk_data...\n",
      "[nltk_data]   Package punkt_tab is already up-to-date!\n"
     ]
    },
    {
     "data": {
      "text/plain": [
       "True"
      ]
     },
     "execution_count": 2,
     "metadata": {},
     "output_type": "execute_result"
    }
   ],
   "source": [
    "import nltk\n",
    "\n",
    "nltk.download('stopwords')\n",
    "nltk.download('punkt')\n",
    "nltk.download('wordnet')\n",
    "nltk.download('punkt_tab')\n"
   ]
  },
  {
   "cell_type": "code",
   "execution_count": 8,
   "metadata": {},
   "outputs": [
    {
     "name": "stdout",
     "output_type": "stream",
     "text": [
      "{'tfidf__max_df': 0.05, 'tfidf__min_df': 1, 'tfidf__ngram_range': (1, 7), 'tfidf__sublinear_tf': False}\n"
     ]
    }
   ],
   "source": [
    "from sklearn.feature_extraction.text import TfidfVectorizer\n",
    "from sklearn.naive_bayes import MultinomialNB\n",
    "from sklearn.pipeline import Pipeline\n",
    "from sklearn.model_selection import GridSearchCV\n",
    "import re\n",
    "from nltk.corpus import stopwords\n",
    "from nltk.tokenize import word_tokenize\n",
    "from nltk.stem import WordNetLemmatizer\n",
    "from sklearn.feature_extraction.text import TfidfVectorizer\n",
    "from sklearn.svm import SVR\n",
    "\n",
    "\n",
    "# Load Data\n",
    "df = df_ok[['title', 'weighted']].sample(n=5000, random_state=42)\n",
    "\n",
    "stop_words = set(stopwords.words('english'))\n",
    "lemmatizer = WordNetLemmatizer()\n",
    "\n",
    "def clean_text(text):\n",
    "    text = text.lower()\n",
    "    text = re.sub(r'\\d+', '', text)  # Remove numbers\n",
    "    text = re.sub(r'[^\\w\\s]', '', text)  # Remove punctuation\n",
    "    words = word_tokenize(text)\n",
    "    words = [lemmatizer.lemmatize(word) for word in words if word not in stop_words]\n",
    "    #print(' '.join(words))\n",
    "    return ' '.join(words)\n",
    "\n",
    "df['cleaned_title'] = df['title'].apply(clean_text)\n",
    "\n",
    "pipeline = Pipeline([\n",
    "    ('tfidf', TfidfVectorizer()),\n",
    "    ('svr', SVR())\n",
    "])\n",
    "\n",
    "param_grid = {\n",
    "    'tfidf__ngram_range': [(1,7),(1,6),(1,5)],\n",
    "    'tfidf__max_df': [0.03,0.04,0.05],\n",
    "    'tfidf__min_df': [1],\n",
    "    'tfidf__sublinear_tf': [False]\n",
    "}\n",
    "\n",
    "grid_search = GridSearchCV(pipeline, param_grid, cv=5, scoring='r2', n_jobs=-1)\n",
    "grid_search.fit(df['cleaned_title'], df['weighted'])\n",
    "print(grid_search.best_params_)\n"
   ]
  },
  {
   "cell_type": "markdown",
   "metadata": {},
   "source": [
    "1. {'tfidf__max_df': 0.1, 'tfidf__min_df': 1, 'tfidf__ngram_range': (1, 3), 'tfidf__sublinear_tf': False}\n",
    "2. {'tfidf__max_df': 0.05, 'tfidf__min_df': 1, 'tfidf__ngram_range': (1, 4), 'tfidf__sublinear_tf': False}\n",
    "3. {'tfidf__max_df': 0.05, 'tfidf__min_df': 1, 'tfidf__ngram_range': (1, 5), 'tfidf__sublinear_tf': False}\n",
    "4. {'tfidf__max_df': 0.05, 'tfidf__min_df': 1, 'tfidf__ngram_range': (1, 7), 'tfidf__sublinear_tf': False}"
   ]
  },
  {
   "cell_type": "code",
   "execution_count": null,
   "metadata": {},
   "outputs": [
    {
     "name": "stdout",
     "output_type": "stream",
     "text": [
      "{'svr__C': 0.1, 'svr__epsilon': 0.5, 'svr__gamma': 'scale', 'svr__kernel': 'linear'}\n"
     ]
    }
   ],
   "source": [
    "pipeline = Pipeline([\n",
    "    ('tfidf', TfidfVectorizer(max_df=0.05, min_df=1,ngram_range=(1,7),sublinear_tf=False)),\n",
    "    ('svr', SVR())\n",
    "])\n",
    "\n",
    "param_grid = {\n",
    "    'svr__C': [0.1], # , 1, 10, 100\n",
    "    'svr__epsilon': [0.5], #0.01, 0.1, \n",
    "    'svr__kernel': ['linear'], # , 'rbf', 'poly'\n",
    "    'svr__gamma': ['scale'] # , 'auto'\n",
    "}\n",
    "\n",
    "grid_search = GridSearchCV(pipeline, param_grid, cv=5, scoring='r2', n_jobs=-1)\n",
    "grid_search.fit(df['cleaned_title'], df['weighted'])\n",
    "print(grid_search.best_params_)"
   ]
  },
  {
   "cell_type": "markdown",
   "metadata": {},
   "source": [
    "1. {'svr__C': 0.1, 'svr__epsilon': 0.5, 'svr__gamma': 'scale', 'svr__kernel': 'linear'}"
   ]
  },
  {
   "cell_type": "code",
   "execution_count": null,
   "metadata": {},
   "outputs": [],
   "source": []
  },
  {
   "cell_type": "code",
   "execution_count": 13,
   "metadata": {},
   "outputs": [
    {
     "name": "stderr",
     "output_type": "stream",
     "text": [
      "/tmp/ipykernel_103755/474211535.py:9: SettingWithCopyWarning: \n",
      "A value is trying to be set on a copy of a slice from a DataFrame.\n",
      "Try using .loc[row_indexer,col_indexer] = value instead\n",
      "\n",
      "See the caveats in the documentation: https://pandas.pydata.org/pandas-docs/stable/user_guide/indexing.html#returning-a-view-versus-a-copy\n",
      "  df['cleaned_title'] = df['title'].apply(clean_text)\n"
     ]
    }
   ],
   "source": [
    "from matplotlib import pyplot as plt\n",
    "import numpy as np\n",
    "from sklearn.metrics import r2_score\n",
    "from sklearn.metrics import mean_squared_error\n",
    "from sklearn.model_selection import train_test_split\n",
    "\n",
    "\n",
    "df = df_ok[['title', 'weighted']]\n",
    "df['cleaned_title'] = df['title'].apply(clean_text)\n",
    "\n",
    "vectorizer =  TfidfVectorizer(max_df=0.05, min_df=1,ngram_range=(1,7),sublinear_tf=False)\n",
    "x = vectorizer.fit_transform(df['cleaned_title'])\n",
    "y = df['weighted']\n",
    "\n",
    "x_train, x_test, y_train, y_test = train_test_split(x, y, test_size=0.2, random_state=42)\n",
    "\n",
    "svm_clf = SVR(kernel='linear', C=0.1, epsilon=0.5, gamma='scale')  \n",
    "svm_clf.fit(x_train, y_train)\n",
    "y_pred = svm_clf.predict(x_test)\n",
    "\n"
   ]
  },
  {
   "cell_type": "code",
   "execution_count": 19,
   "metadata": {},
   "outputs": [
    {
     "name": "stdout",
     "output_type": "stream",
     "text": [
      "Mean Squared Error (MSE): 0.3462037014601653\n",
      "Root Mean Squared Error (RMSE): 0.588390772752399\n",
      "R² Score: 0.0021590190907383455\n"
     ]
    }
   ],
   "source": [
    "mse = mean_squared_error(y_test, y_pred)\n",
    "print(f\"Mean Squared Error (MSE): {mse}\")\n",
    "rmse = np.sqrt(mse)\n",
    "print(f\"Root Mean Squared Error (RMSE): {rmse}\")\n",
    "r2 = r2_score(y_test, y_pred)\n",
    "print(f\"R² Score: {r2}\")\n"
   ]
  },
  {
   "cell_type": "code",
   "execution_count": 15,
   "metadata": {},
   "outputs": [],
   "source": [
    "_, X_demo, _, _ = train_test_split(df['title'], y, test_size=0.2, random_state=42)\n",
    "df_demo = pd.DataFrame({\"title\": X_demo, \"sentiment\": y_test})\n"
   ]
  },
  {
   "cell_type": "code",
   "execution_count": 27,
   "metadata": {},
   "outputs": [
    {
     "name": "stdout",
     "output_type": "stream",
     "text": [
      "0.984384829551427 : CashApp adds free stock trading\n",
      "0.957202480238257 : Head of Crypto Capital arrested in connection with money laundering\n",
      "0.8953299645956553 : Citadel CEO Ken Griffin says he regrets not buying crypto a few years ago.\n",
      "0.8664774498807996 : $1.5 trillion asset manager Invesco reactivates spot Bitcoin ETF filing.\n",
      "0.8566796944705687 : Japan's stock market suffers worst losses since 1987.\n",
      "0.8519517522133754 : Citadel, Fidelity, and Charles Schwab launch new crypto exchange platform, EDX Markets. -\n",
      "0.8441186125571868 : Since the start of 2023, the volume of BTC traded (excluding Binance) relative to all other cryptocurrencies has increased from 25% to 32% as altcoins suffer particularly steep losses\n",
      "0.8302115276089562 : Robinhood halts 24 hour trading.• Google : -11%• Amazon : -10%• Microsoft : -9%• NVIDIA : -11%• Apple : -10%• Meta : -10%• Tesla : -10%\n",
      "0.8227596030289075 : Mysterious 'Robin Hood' hackers donating stolen money\n",
      "0.8219441223744591 : Nvidia reports $35.1 billion in revenue for Q3, 6% higher than expectations.\n",
      "0.8193436107874728 : 000\n",
      "0.8169094442597171 : Hydropower stations in China’s Sichuan were fined for feeding bitcoin farms in private\n",
      "0.8131227707835008 : FED's Christopher Waller says \"three or four cuts could be possible this year.\"\n",
      "0.8111668864903543 : FTX bankruptcy lawyers ask court for $323m recovery from FTX Europe leadership\n",
      "0.8102396640079419 : Bitcoin implied volatility back to normal\n",
      "0.8084293476079943 : The 294th Bitcoin mining period has started with block 590,688. ⛏ New difficulty: 10,183,488,432,890 (+1.98%)\n",
      "0.8077841227981112 : eToro files for US IPO and chases $5bn valuation\n",
      "0.8076119867331207 : Kraken launches custody service, aims to compete with Coinbase |\n",
      "0.8044825658284852 : ICE used \"crypto winter\" to buy digital assets at a discount for its long-awaited crypto-trading platform Bakkt\n",
      "0.7997772087405076 : March, April, July, and August each saw record-breaking BTC trade volumes compared to previous years\n",
      "0.7945058915055101 : Kraken to launch bitcoin lightning integration in 2021\n",
      "0.7934423976287414 : Shanghai High People’s Court has declared Bitcoin is a legal virtual property protected under Chinese law.\n",
      "0.7919067970842766 : new ฿ yearly low: $79,071\n",
      "0.7888715911101136 : BitMEX to launch bitcoin zero coupon bond in the next few weeks\n",
      "0.786228240713389 : Crypto asset manager Grayscale CEO Michael Sonnenshein resigns.\n",
      "0.784773560186326 : SpaceX booster rocket successfully returns to the same tower it launched from.\n",
      "0.7839566592220932 : As the spot Bitcoin ETFs settle into more normal trading, GBTC has lost dominance in volumes. At the start GBTC accounted for over half of daily volumes across ETFs, but now accounts for ~30% and was trumped by IBIT last week\n",
      "0.7839494762714839 : surpasses a $155,000,000,000 market cap.\n",
      "0.783947355116706 : Options IVs have fallen towards all-time lows across a set of different expiries. For instance, the IV of 1mth, 3mth, and 6mth expiries sit at all-time lows\n",
      "0.7813607861894194 : The Ukrainian government and NGOs have raised $17.2 million in Bitcoin, Ethereum & USDT since the start of the Russian invasion.\n"
     ]
    }
   ],
   "source": [
    "hello = df_demo.sort_values('sentiment', ascending=False).head(30)\n",
    "for _, row in hello.iterrows():  \n",
    "    print(f\"{row['sentiment']} : {row['title']}\")"
   ]
  },
  {
   "cell_type": "code",
   "execution_count": 28,
   "metadata": {},
   "outputs": [
    {
     "name": "stdout",
     "output_type": "stream",
     "text": [
      "-0.968479856992306 : $64 billion asset manager Citadel to offer crypto trading and become a liquidity provider for cryptocurrencies.\n",
      "-0.9554926265689484 : For the first time BitMEX achieved US $1 billion open interest on the perpetual swap contract\n",
      "-0.9310079969648656 : JPMorgan CEO Jamie Dimon supports Elon Musk's DOGE efforts, stating that the US government is \"inefficient\" and \"it needs to be done.\"\n",
      "-0.9020543962580236 : US House Financial Services says \"classifying ETH as a security contradicts previous statements of the SEC and Chair Gensler.\"\n",
      "-0.8989956388030269 : (ERC20) balances on exchanges by +125% within the last 30 days\n",
      "-0.890269822187683 : Australian regulator releases crypto, ICO, and mining guidelines\n",
      "-0.8799025486758083 : Retail interest in Cardano is “rapidly increasing” according to data from analytics firm IntoTheBlock.\n",
      "-0.8772971340365349 : Tokyo police arrest two for taking possession of stolen cryptocurrency\n",
      "-0.8675473206081113 : $340 million liquidated from the cryptocurrency market in the past 60 minutes.\n",
      "-0.859854080322405 : DekaBank rolls out crypto trading, custody services for institutions |\n",
      "-0.8593490041382277 : Former President Trump holds $2.8 million , updated financial records reveal.\n",
      "-0.8581977340242664 : BlackRock CEO Larry Fink says they \"see value in having an Ethereum ETF.\"\n",
      "-0.8568825206873472 : Ethereum Layer 2 network Hermez that uses ZK-Rollups has gone live\n",
      "-0.8546143016375416 : BlackRock’s spot Bitcoin ETF crosses $15 billion in total inflows |\n",
      "-0.8543646431481825 : Quantstamp has identified ten security issues with SushiSwap’s code — including one that could allow locked funds to be stolen\n",
      "-0.8520104471285358 : Ledger detected a malware that locally replaces the Ledger Live desktop application by a malicious one. Users of infected computers are asked to enter their 24-word recovery phrase after a fake update\n",
      "-0.8502705758316036 : DeFi’s first dynamic vaults for stable assets on Solana, will be having an IEO on FTX Exchange and IDO platform Raydium. : : Mercurial is backed by Alameda Research, Solana Ecosystem Fund, OKEx, Huobi, as well as founders of Coingecko, Nansen and Blockfolio.Disclaimer: is an investor.\n",
      "-0.8488278551335295 : Utah judge has found the SEC engaged in bad faith conduct against crypto firm Debt Box\n",
      "-0.8456772953357758 : Loaded with perks - up to 5% cashback, airport lounge access, free Spotify & Netflix, 10% off Expedia & Airbnb\n",
      "-0.8416100962272306 : CZ sentenced to 4 months in prison\n",
      "-0.8407851566937639 : SEC staff calls Bitcoin ‘Highly Speculative,’ hints at ETF skepticism\n",
      "-0.8376685284006424 : Meta is working on plans to allow users to create and sell non-fungible tokens |\n",
      "-0.8346464668026513 : As the channel has grown quite a bit now, I decided to rebrand it and give it a new look to better reflect what I do. Telegram: Twitter:\n",
      "-0.834426178636783 : Fidelity-backed crypto custody provider KNØX launches today, claiming to provide up to 100% insurance via Marsh\n",
      "-0.8284590119680812 : Jeff Bezos has started following Dogecoin co-founder Shibetoshi Nakamoto on Twitter.\n",
      "-0.827693617495249 : Binance enables UK's Faster Payments Scheme for GBP transfers; adds support for AUD\n",
      "-0.8264355004051519 : Facebook's Libra faces EU antitrust probe\n",
      "-0.8259658619517913 : Local-search service Yelp introduces \"accepts cryptocurrency\" filter\n",
      "-0.8250814303841082 : Bitcoin’s first public mining pool Slush Pool is rebranding\n",
      "-0.822765616463834 : BlackRock ETF buys first muni bonds issued through blockchain.\n"
     ]
    }
   ],
   "source": [
    "hello = df_demo.sort_values('sentiment', ascending=True).head(30)\n",
    "for _, row in hello.iterrows():  \n",
    "    print(f\"{row['sentiment']} : {row['title']}\")"
   ]
  }
 ],
 "metadata": {
  "kernelspec": {
   "display_name": "Python 3",
   "language": "python",
   "name": "python3"
  },
  "language_info": {
   "codemirror_mode": {
    "name": "ipython",
    "version": 3
   },
   "file_extension": ".py",
   "mimetype": "text/x-python",
   "name": "python",
   "nbconvert_exporter": "python",
   "pygments_lexer": "ipython3",
   "version": "3.10.12"
  }
 },
 "nbformat": 4,
 "nbformat_minor": 2
}
